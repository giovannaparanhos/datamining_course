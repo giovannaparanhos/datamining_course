{
  "cells": [
    {
      "cell_type": "code",
      "execution_count": 20,
      "metadata": {},
      "outputs": [
        {
          "name": "stdout",
          "output_type": "stream",
          "text": [
            "Requirement already satisfied: seaborn in /Library/Frameworks/Python.framework/Versions/3.11/lib/python3.11/site-packages (0.12.2)\n",
            "Requirement already satisfied: numpy!=1.24.0,>=1.17 in /Library/Frameworks/Python.framework/Versions/3.11/lib/python3.11/site-packages (from seaborn) (1.26.0)\n",
            "Requirement already satisfied: pandas>=0.25 in /Library/Frameworks/Python.framework/Versions/3.11/lib/python3.11/site-packages (from seaborn) (2.1.1)\n",
            "Requirement already satisfied: matplotlib!=3.6.1,>=3.1 in /Library/Frameworks/Python.framework/Versions/3.11/lib/python3.11/site-packages (from seaborn) (3.8.0)\n",
            "Requirement already satisfied: contourpy>=1.0.1 in /Library/Frameworks/Python.framework/Versions/3.11/lib/python3.11/site-packages (from matplotlib!=3.6.1,>=3.1->seaborn) (1.1.1)\n",
            "Requirement already satisfied: cycler>=0.10 in /Library/Frameworks/Python.framework/Versions/3.11/lib/python3.11/site-packages (from matplotlib!=3.6.1,>=3.1->seaborn) (0.11.0)\n",
            "Requirement already satisfied: fonttools>=4.22.0 in /Library/Frameworks/Python.framework/Versions/3.11/lib/python3.11/site-packages (from matplotlib!=3.6.1,>=3.1->seaborn) (4.42.1)\n",
            "Requirement already satisfied: kiwisolver>=1.0.1 in /Library/Frameworks/Python.framework/Versions/3.11/lib/python3.11/site-packages (from matplotlib!=3.6.1,>=3.1->seaborn) (1.4.5)\n",
            "Requirement already satisfied: packaging>=20.0 in /Library/Frameworks/Python.framework/Versions/3.11/lib/python3.11/site-packages (from matplotlib!=3.6.1,>=3.1->seaborn) (23.1)\n",
            "Requirement already satisfied: pillow>=6.2.0 in /Library/Frameworks/Python.framework/Versions/3.11/lib/python3.11/site-packages (from matplotlib!=3.6.1,>=3.1->seaborn) (10.0.1)\n",
            "Requirement already satisfied: pyparsing>=2.3.1 in /Library/Frameworks/Python.framework/Versions/3.11/lib/python3.11/site-packages (from matplotlib!=3.6.1,>=3.1->seaborn) (3.1.1)\n",
            "Requirement already satisfied: python-dateutil>=2.7 in /Library/Frameworks/Python.framework/Versions/3.11/lib/python3.11/site-packages (from matplotlib!=3.6.1,>=3.1->seaborn) (2.8.2)\n",
            "Requirement already satisfied: pytz>=2020.1 in /Library/Frameworks/Python.framework/Versions/3.11/lib/python3.11/site-packages (from pandas>=0.25->seaborn) (2023.3.post1)\n",
            "Requirement already satisfied: tzdata>=2022.1 in /Library/Frameworks/Python.framework/Versions/3.11/lib/python3.11/site-packages (from pandas>=0.25->seaborn) (2023.3)\n",
            "Requirement already satisfied: six>=1.5 in /Library/Frameworks/Python.framework/Versions/3.11/lib/python3.11/site-packages (from python-dateutil>=2.7->matplotlib!=3.6.1,>=3.1->seaborn) (1.16.0)\n"
          ]
        }
      ],
      "source": [
        "! pip3 install seaborn"
      ]
    },
    {
      "cell_type": "markdown",
      "metadata": {},
      "source": [
        "## 1. Data Ingestion"
      ]
    },
    {
      "cell_type": "markdown",
      "metadata": {},
      "source": [
        "1. Import the necessary libraries:"
      ]
    },
    {
      "cell_type": "code",
      "execution_count": null,
      "metadata": {
        "id": "a9m-b4lXCLsg"
      },
      "outputs": [],
      "source": [
        "import os\n",
        "import pandas as pd"
      ]
    },
    {
      "cell_type": "markdown",
      "metadata": {
        "id": "bd2TaMihEGQM"
      },
      "source": [
        "\n",
        "2. Specify the directory where your .xls files are located. In this example, we assume the 'data' directory is in the same directory as your Python script:"
      ]
    },
    {
      "cell_type": "code",
      "execution_count": null,
      "metadata": {
        "id": "Zydxm6auC4Yq"
      },
      "outputs": [],
      "source": [
        "data_directory = 'data'"
      ]
    },
    {
      "cell_type": "markdown",
      "metadata": {
        "id": "RYfQsTqiFEro"
      },
      "source": [
        "3. Create an empty list to store the dataframes read from each .xls file:"
      ]
    },
    {
      "cell_type": "code",
      "execution_count": null,
      "metadata": {
        "id": "nx5sZ7tFERWv"
      },
      "outputs": [],
      "source": [
        "dataframes = []"
      ]
    },
    {
      "cell_type": "markdown",
      "metadata": {},
      "source": [
        "4. Loop through the files in the 'data' directory, read each .xls file using pd.read_excel(), and append the resulting dataframe to the list:"
      ]
    },
    {
      "cell_type": "code",
      "execution_count": null,
      "metadata": {
        "id": "RHGwjQ4tETS1"
      },
      "outputs": [],
      "source": [
        "for filename in os.listdir(data_directory):\n",
        "    if filename.endswith(\".xls\"):\n",
        "        file_path = os.path.join(data_directory, filename)\n",
        "        df = pd.read_excel(file_path)\n",
        "        dataframes.append(df)\n"
      ]
    },
    {
      "cell_type": "markdown",
      "metadata": {},
      "source": [
        "5. Concatenate the dataframes in the list into a single dataframe if needed. If each `.xls` file represents a different class, you might want to add a class label column to distinguish the classes. Assuming you have a list of class names corresponding to each file, you can do something like this:"
      ]
    },
    {
      "cell_type": "code",
      "execution_count": null,
      "metadata": {
        "id": "5oEfAF-QEY0q"
      },
      "outputs": [],
      "source": [
        "class_names = ['cmp', 'cs', 'css', 'ctmsm', 'normal']  # Replace with your actual class names\n",
        "\n",
        "for i, df in enumerate(dataframes):\n",
        "    df['class'] = class_names[i]\n",
        "\n",
        "# Concatenate the dataframes into a single dataframe\n",
        "combined_df = pd.concat(dataframes, ignore_index=True)\n"
      ]
    },
    {
      "cell_type": "markdown",
      "metadata": {},
      "source": [
        "Now, `combined_df` contains all the data from the `.xls` files with an additional 'class' column to distinguish the classes.\n",
        "\n",
        "You can then proceed with your classification task using `combined_df`. Depending on your specific classification task, you may need to perform data preprocessing, split the data into training and testing sets, and build a machine learning model."
      ]
    },
    {
      "cell_type": "code",
      "execution_count": null,
      "metadata": {
        "colab": {
          "base_uri": "https://localhost:8080/",
          "height": 576
        },
        "id": "xwF5jsqmEssI",
        "outputId": "83d3dc4e-ce79-49b5-a0f0-531b335470ac"
      },
      "outputs": [],
      "source": [
        "combined_df.head(3)"
      ]
    },
    {
      "cell_type": "markdown",
      "metadata": {},
      "source": [
        "## 2. General analysis"
      ]
    },
    {
      "cell_type": "code",
      "execution_count": null,
      "metadata": {},
      "outputs": [],
      "source": [
        "# Display basic information about the dataset\n",
        "print(combined_df.info())\n",
        "\n",
        "# Display the first few rows of the dataset\n",
        "print(combined_df.head())\n",
        "\n",
        "# Summary statistics of numerical columns\n",
        "print(combined_df.describe())"
      ]
    },
    {
      "cell_type": "markdown",
      "metadata": {},
      "source": [
        "2. **Data Cleaning:**\n",
        "\n",
        "   Check for missing values and handle them if necessary:"
      ]
    },
    {
      "cell_type": "code",
      "execution_count": null,
      "metadata": {},
      "outputs": [],
      "source": [
        "# Check for missing values\n",
        "print(combined_df.isnull().sum())\n",
        "\n",
        "# Handle missing values if needed (e.g., using fillna() or dropna())"
      ]
    },
    {
      "cell_type": "markdown",
      "metadata": {},
      "source": [
        "### Limitação:\n",
        "O ChatGPT não tem acesso às colunas existentes no dataset. Por isso, não procura eliminar (e nem orienta a tal) colunas que não contém dados pertinentes à tarefa, como 'Unnamed: 0' (índice carregado do .xls) ou 'File' (nome do arquivo de imagem)."
      ]
    },
    {
      "cell_type": "markdown",
      "metadata": {},
      "source": [
        "3. **Data Visualization:**\n",
        "\n",
        "   Visualize your data to better understand its distribution and characteristics. You can use libraries like `matplotlib` or `seaborn` for this purpose:\n",
        "   ```python\n",
        "   import matplotlib.pyplot as plt\n",
        "   import seaborn as sns\n",
        "\n",
        "   # Example: Plot a histogram of a numerical feature\n",
        "   plt.figure(figsize=(8, 6))\n",
        "   sns.histplot(data=combined_df, x='numeric_feature', bins=20, kde=True)\n",
        "   plt.title('Distribution of Numeric Feature')\n",
        "   plt.show()\n",
        "\n",
        "   # Explore relationships between variables (e.g., pair plots or correlation matrix)\n",
        "   sns.pairplot(combined_df, hue='class')```"
      ]
    },
    {
      "cell_type": "code",
      "execution_count": null,
      "metadata": {},
      "outputs": [],
      "source": [
        "import matplotlib.pyplot as plt\n",
        "import seaborn as sns\n",
        "\n",
        "# Example: Plot a histogram of a numerical feature\n",
        "plt.figure(figsize=(8, 6))\n",
        "sns.histplot(data=combined_df, x='Cell Segment Area', bins=20, kde=True)\n",
        "plt.title('Distribution of Numeric Feature')\n",
        "plt.show()\n",
        "\n",
        "# Explore relationships between variables (e.g., pair plots or correlation matrix)\n",
        "sns.pairplot(combined_df, hue='class')"
      ]
    },
    {
      "cell_type": "markdown",
      "metadata": {},
      "source": [
        "4. **Class Distribution:**\n",
        "\n",
        "   Check the distribution of classes in your dataset to see if it's balanced or imbalanced:"
      ]
    },
    {
      "cell_type": "code",
      "execution_count": null,
      "metadata": {},
      "outputs": [],
      "source": [
        "class_distribution = combined_df['class'].value_counts()\n",
        "print(class_distribution)"
      ]
    },
    {
      "cell_type": "markdown",
      "metadata": {},
      "source": [
        "5. **Feature Analysis:**\n",
        "\n",
        "   Explore the characteristics of your features. Depending on your data, you may want to analyze categorical features, numerical features, or both."
      ]
    },
    {
      "cell_type": "markdown",
      "metadata": {},
      "source": [
        "6. **Data Preprocessing:**\n",
        "\n",
        "   If your dataset requires preprocessing (e.g., feature scaling, encoding categorical variables), perform the necessary steps to prepare it for modeling."
      ]
    },
    {
      "cell_type": "markdown",
      "metadata": {},
      "source": [
        "7. **Correlation Analysis:**\n",
        "\n",
        "   If your dataset contains numerical features, you can calculate and visualize correlations:\n",
        "   ```python\n",
        "   # Calculate and visualize the correlation matrix\n",
        "   correlation_matrix = combined_df.corr()\n",
        "   sns.heatmap(correlation_matrix, annot=True, cmap='coolwarm')\n",
        "   plt.title('Correlation Matrix')\n",
        "   plt.show()```"
      ]
    },
    {
      "cell_type": "markdown",
      "metadata": {},
      "source": [
        "### Comentário: \n",
        "O código acima não funcionou devido à presença da coluna não-numérica 'File'. Dropamos para que o próximo passo fosse executado.\n"
      ]
    },
    {
      "cell_type": "code",
      "execution_count": null,
      "metadata": {},
      "outputs": [],
      "source": [
        "# Calculate and visualize the correlation matrix\n",
        "combined_df1 = combined_df.drop(['File', 'class'], axis=1) # drop file col\n",
        "\n",
        "correlation_matrix = combined_df1.corr()\n",
        "sns.heatmap(correlation_matrix, annot=True, cmap='coolwarm')\n",
        "plt.title('Correlation Matrix')\n",
        "plt.show()"
      ]
    },
    {
      "cell_type": "markdown",
      "metadata": {},
      "source": [
        "\n",
        "\n",
        "\n",
        "\n",
        "\n",
        "\n",
        "\n",
        "\n",
        "\n",
        "\n",
        "\n",
        "\n",
        "\n",
        "\n",
        "   ```python\n",
        "   \n",
        "   ```\n",
        "\n",
        "8. **Outlier Detection:**\n",
        "\n",
        "   Identify and handle outliers if they exist in your data. You can use various methods like the IQR method or visualization techniques to detect outliers.\n",
        "\n",
        "9. **Data Summary:**\n",
        "\n",
        "   Summarize your findings and insights from the data analysis. This will help you understand the characteristics of your dataset and inform your decisions for the classification task.\n",
        "\n",
        "10. **Further Analysis:**\n",
        "\n",
        "    Depending on the specific requirements of your classification task, you may need to perform additional analysis or preprocessing steps, such as feature selection or engineering.\n",
        "\n",
        "Remember that the analysis will vary depending on the nature of your dataset and the goals of your classification task. The above steps provide a general framework for exploring and understanding your data before moving on to modeling."
      ]
    }
  ],
  "metadata": {
    "colab": {
      "provenance": []
    },
    "kernelspec": {
      "display_name": "Python 3",
      "name": "python3"
    },
    "language_info": {
      "codemirror_mode": {
        "name": "ipython",
        "version": 3
      },
      "file_extension": ".py",
      "mimetype": "text/x-python",
      "name": "python",
      "nbconvert_exporter": "python",
      "pygments_lexer": "ipython3",
      "version": "3.11.5"
    }
  },
  "nbformat": 4,
  "nbformat_minor": 0
}
